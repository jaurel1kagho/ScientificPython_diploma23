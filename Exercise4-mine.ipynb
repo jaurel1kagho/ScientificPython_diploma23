{
 "cells": [
  {
   "cell_type": "markdown",
   "metadata": {},
   "source": [
    "### **Exercise1:**\n",
    "\n",
    "Give students in the `example.csv` file a bonus of 5 for all the courses. Find a way to replace all the values that are now greater than 30 by 30. Save the new data to a file. Make a plot with histograms for every course in the example file."
   ]
  },
  {
   "cell_type": "code",
   "execution_count": 1,
   "metadata": {},
   "outputs": [],
   "source": [
    "import pandas as pd\n",
    "import numpy as np\n"
   ]
  },
  {
   "cell_type": "code",
   "execution_count": 17,
   "metadata": {},
   "outputs": [],
   "source": [
    "#d1=pd.read_csv(r'C:\\Users\\Ron\\Desktop\\example.csv'  or '/home/jaurel/miniconda3/envs/my_new_env/ScientificPython_diploma23-main/example.csv')\n",
    "d1 = pd.read_csv('example.csv'   ,   index_col=0   )\n",
    "def f1(x):\n",
    "    return x+5\n",
    "d2=d1.apply(f1)\n"
   ]
  },
  {
   "cell_type": "code",
   "execution_count": 13,
   "metadata": {},
   "outputs": [
    {
     "name": "stdout",
     "output_type": "stream",
     "text": [
      "        course1  course2  course3  course4\n",
      "name                                      \n",
      "Marie        24       18       30       20\n",
      "John         18       27       29       27\n",
      "Kati         21       24       28       27\n",
      "Olaf         30       30       29       30\n",
      "Mark         24       25       27       21\n",
      "Olga         23       26       30       30\n",
      "Jean         18       28       26       24\n",
      "Alex         19       20       27       27\n",
      "Pier         24       29       23       26\n",
      "Bennet       24       25       26       30\n",
      "Luis         20       20       18       18\n",
      "        course1  course2  course3  course4\n",
      "name                                      \n",
      "Marie        29       23       35       25\n",
      "John         23       32       34       32\n",
      "Kati         26       29       33       32\n",
      "Olaf         35       35       34       35\n",
      "Mark         29       30       32       26\n",
      "Olga         28       31       35       35\n",
      "Jean         23       33       31       29\n",
      "Alex         24       25       32       32\n",
      "Pier         29       34       28       31\n",
      "Bennet       29       30       31       35\n",
      "Luis         25       25       23       23\n"
     ]
    }
   ],
   "source": [
    "print(d1) \n",
    "print(d2) "
   ]
  },
  {
   "cell_type": "code",
   "execution_count": 18,
   "metadata": {},
   "outputs": [],
   "source": [
    "def func(x):\n",
    "    return 30\n",
    "    #if y>30:\n",
    "    #    return 30\n",
    "    #else:\n",
    "    #    return y"
   ]
  },
  {
   "cell_type": "code",
   "execution_count": 19,
   "metadata": {},
   "outputs": [
    {
     "data": {
      "text/plain": [
       "30"
      ]
     },
     "execution_count": 19,
     "metadata": {},
     "output_type": "execute_result"
    }
   ],
   "source": [
    "f2(5)"
   ]
  },
  {
   "cell_type": "code",
   "execution_count": 26,
   "metadata": {},
   "outputs": [
    {
     "name": "stdout",
     "output_type": "stream",
     "text": [
      "        course1  course2  course3  course4\n",
      "name                                      \n",
      "Marie        24       18       30       20\n",
      "John         18       27       29       27\n",
      "Kati         21       24       28       27\n",
      "Olaf         30       30       29       30\n",
      "Mark         24       25       27       21\n",
      "Olga         23       26       30       30\n",
      "Jean         18       28       26       24\n",
      "Alex         19       20       27       27\n",
      "Pier         24       29       23       26\n",
      "Bennet       24       25       26       30\n",
      "Luis         20       20       18       18\n",
      "course1    30\n",
      "course2    30\n",
      "course3    30\n",
      "course4    30\n",
      "dtype: int64\n"
     ]
    }
   ],
   "source": [
    "print(d1)\n",
    "print(d2.apply(func))\n",
    "#print(d3)"
   ]
  },
  {
   "cell_type": "code",
   "execution_count": 73,
   "metadata": {},
   "outputs": [],
   "source": [
    "from copy import deepcopy\n",
    "\n",
    "df=deepcopy(d2)"
   ]
  },
  {
   "cell_type": "code",
   "execution_count": 79,
   "metadata": {},
   "outputs": [],
   "source": [
    "def change(df,cond):\n",
    "\n",
    "    for i in list(df.columns):    \n",
    "\n",
    "        df[i]=np.where(df[i]>cond,cond,df[i])\n",
    "    return df"
   ]
  },
  {
   "cell_type": "code",
   "execution_count": 80,
   "metadata": {},
   "outputs": [
    {
     "data": {
      "text/html": [
       "<div>\n",
       "<style scoped>\n",
       "    .dataframe tbody tr th:only-of-type {\n",
       "        vertical-align: middle;\n",
       "    }\n",
       "\n",
       "    .dataframe tbody tr th {\n",
       "        vertical-align: top;\n",
       "    }\n",
       "\n",
       "    .dataframe thead th {\n",
       "        text-align: right;\n",
       "    }\n",
       "</style>\n",
       "<table border=\"1\" class=\"dataframe\">\n",
       "  <thead>\n",
       "    <tr style=\"text-align: right;\">\n",
       "      <th></th>\n",
       "      <th>course1</th>\n",
       "      <th>course2</th>\n",
       "      <th>course3</th>\n",
       "      <th>course4</th>\n",
       "    </tr>\n",
       "    <tr>\n",
       "      <th>name</th>\n",
       "      <th></th>\n",
       "      <th></th>\n",
       "      <th></th>\n",
       "      <th></th>\n",
       "    </tr>\n",
       "  </thead>\n",
       "  <tbody>\n",
       "    <tr>\n",
       "      <th>Marie</th>\n",
       "      <td>29</td>\n",
       "      <td>23</td>\n",
       "      <td>30</td>\n",
       "      <td>25</td>\n",
       "    </tr>\n",
       "    <tr>\n",
       "      <th>John</th>\n",
       "      <td>23</td>\n",
       "      <td>30</td>\n",
       "      <td>30</td>\n",
       "      <td>30</td>\n",
       "    </tr>\n",
       "    <tr>\n",
       "      <th>Kati</th>\n",
       "      <td>26</td>\n",
       "      <td>29</td>\n",
       "      <td>30</td>\n",
       "      <td>30</td>\n",
       "    </tr>\n",
       "    <tr>\n",
       "      <th>Olaf</th>\n",
       "      <td>30</td>\n",
       "      <td>30</td>\n",
       "      <td>30</td>\n",
       "      <td>30</td>\n",
       "    </tr>\n",
       "    <tr>\n",
       "      <th>Mark</th>\n",
       "      <td>29</td>\n",
       "      <td>30</td>\n",
       "      <td>30</td>\n",
       "      <td>26</td>\n",
       "    </tr>\n",
       "    <tr>\n",
       "      <th>Olga</th>\n",
       "      <td>28</td>\n",
       "      <td>30</td>\n",
       "      <td>30</td>\n",
       "      <td>30</td>\n",
       "    </tr>\n",
       "    <tr>\n",
       "      <th>Jean</th>\n",
       "      <td>23</td>\n",
       "      <td>30</td>\n",
       "      <td>30</td>\n",
       "      <td>29</td>\n",
       "    </tr>\n",
       "    <tr>\n",
       "      <th>Alex</th>\n",
       "      <td>24</td>\n",
       "      <td>25</td>\n",
       "      <td>30</td>\n",
       "      <td>30</td>\n",
       "    </tr>\n",
       "    <tr>\n",
       "      <th>Pier</th>\n",
       "      <td>29</td>\n",
       "      <td>30</td>\n",
       "      <td>28</td>\n",
       "      <td>30</td>\n",
       "    </tr>\n",
       "    <tr>\n",
       "      <th>Bennet</th>\n",
       "      <td>29</td>\n",
       "      <td>30</td>\n",
       "      <td>30</td>\n",
       "      <td>30</td>\n",
       "    </tr>\n",
       "    <tr>\n",
       "      <th>Luis</th>\n",
       "      <td>25</td>\n",
       "      <td>25</td>\n",
       "      <td>23</td>\n",
       "      <td>23</td>\n",
       "    </tr>\n",
       "  </tbody>\n",
       "</table>\n",
       "</div>"
      ],
      "text/plain": [
       "        course1  course2  course3  course4\n",
       "name                                      \n",
       "Marie        29       23       30       25\n",
       "John         23       30       30       30\n",
       "Kati         26       29       30       30\n",
       "Olaf         30       30       30       30\n",
       "Mark         29       30       30       26\n",
       "Olga         28       30       30       30\n",
       "Jean         23       30       30       29\n",
       "Alex         24       25       30       30\n",
       "Pier         29       30       28       30\n",
       "Bennet       29       30       30       30\n",
       "Luis         25       25       23       23"
      ]
     },
     "execution_count": 80,
     "metadata": {},
     "output_type": "execute_result"
    }
   ],
   "source": [
    "change(df,30)"
   ]
  },
  {
   "cell_type": "markdown",
   "metadata": {
    "jp-MarkdownHeadingCollapsed": true,
    "tags": []
   },
   "source": [
    "### **Exercise2:**\n",
    "\n",
    " - Read in the `cars.csv` file as a dataframe\n",
    " - Remove the row with the index 3, which contains a quote in the Model column.\n",
    " - Add a new column called Price with the following values: [8000, 6500, 7000, 6800, 7500, 7300, 7000, 9000, 6500, 7800]\n",
    " - Find the average Length of all the vehicles.\n",
    " - Find the median Price of all the vehicles.\n",
    " - Create a new dataframe that only contains the rows where the Price is greater than 7000.\n",
    " - Sort the dataframe in descending order by the Price column.\n"
   ]
  },
  {
   "cell_type": "markdown",
   "metadata": {},
   "source": [
    "### **Exercise3**\n",
    " - create a random matrix with numpy\n",
    " - save it to file\n",
    " - read it back with numpy\n",
    " - calculate some statistcs on it with numpy \n",
    " - read the same file with pandas\n",
    " - calculate the same statistics on it with pandas"
   ]
  },
  {
   "cell_type": "code",
   "execution_count": null,
   "metadata": {},
   "outputs": [],
   "source": []
  }
 ],
 "metadata": {
  "kernelspec": {
   "display_name": "Python 3 (ipykernel)",
   "language": "python",
   "name": "python3"
  },
  "language_info": {
   "codemirror_mode": {
    "name": "ipython",
    "version": 3
   },
   "file_extension": ".py",
   "mimetype": "text/x-python",
   "name": "python",
   "nbconvert_exporter": "python",
   "pygments_lexer": "ipython3",
   "version": "3.10.9"
  }
 },
 "nbformat": 4,
 "nbformat_minor": 4
}
